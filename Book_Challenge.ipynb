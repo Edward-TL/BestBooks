{
 "cells": [
  {
   "cell_type": "markdown",
   "metadata": {},
   "source": [
    "<h1>¿Influyen la cantidad de reviews en la calificación de un libro?</h1>"
   ]
  },
  {
   "cell_type": "markdown",
   "metadata": {},
   "source": [
    "No se requiere ser bibliomano para poder recomendar un libro que nos haya gustado, pero si el gusto es relativo, ¿podrá ser que a alguien no le guste el mismo libro que a mí me inspiro a ser mejor persona? Claro que sí, es muy probable que al menos a una persona no le guste. Eso no quiere decir que los gustos se dividan entre \"lo amé\" y \"lo odié\", como todo en la vida, es bueno tener matices. La escala de 5 estrellas es una muy conocida, dónde 0 es un rotundo \"no lo recomiendo\", 3 se puede entender como un \"bueno, pero no el mejor\" y 5 \"excelente\". Brindándole a la gente estos matices, podemos obtener más información, así como nuevas preguntas, dónde la más importante podría ser: ¿Mientras más gente lea un libro, más difícil será alcanzar las 5 estrellas?"
   ]
  },
  {
   "cell_type": "markdown",
   "metadata": {},
   "source": [
    "Con el Dataset de esta página, se plantea hacer un estudio estadístico sobre la relación que tiene el promedio de calificación en un rating de 5 estrellas ('average_rating') y las reseñas que ha recibido el libro ('text_reviews_coun'), suponiendo que todas las reseñas recibidas han sido hechas por gente que leyó el libro."
   ]
  },
  {
   "cell_type": "markdown",
   "metadata": {},
   "source": [
    "<h1>Read Data</h1>"
   ]
  },
  {
   "cell_type": "markdown",
   "metadata": {},
   "source": [
    "Desde un punto inicial se poceden a importar las librerías del set básico para analizar un DataFrame de Pandas, gráficas y arreglos"
   ]
  },
  {
   "cell_type": "code",
   "execution_count": 206,
   "metadata": {},
   "outputs": [],
   "source": [
    "import scipy.stats\n",
    "import numpy as np\n",
    "import pandas as pd\n",
    "\n",
    "import matplotlib.pyplot as plt\n",
    "import seaborn as sns\n",
    "\n",
    "%matplotlib inline"
   ]
  },
  {
   "cell_type": "code",
   "execution_count": 207,
   "metadata": {
    "scrolled": true
   },
   "outputs": [
    {
     "data": {
      "text/html": [
       "<div>\n",
       "<style scoped>\n",
       "    .dataframe tbody tr th:only-of-type {\n",
       "        vertical-align: middle;\n",
       "    }\n",
       "\n",
       "    .dataframe tbody tr th {\n",
       "        vertical-align: top;\n",
       "    }\n",
       "\n",
       "    .dataframe thead th {\n",
       "        text-align: right;\n",
       "    }\n",
       "</style>\n",
       "<table border=\"1\" class=\"dataframe\">\n",
       "  <thead>\n",
       "    <tr style=\"text-align: right;\">\n",
       "      <th></th>\n",
       "      <th>bookID</th>\n",
       "      <th>title</th>\n",
       "      <th>authors</th>\n",
       "      <th>average_rating</th>\n",
       "      <th>isbn</th>\n",
       "      <th>isbn13</th>\n",
       "      <th>language_code</th>\n",
       "      <th>num_pages</th>\n",
       "      <th>ratings_count</th>\n",
       "      <th>text_reviews_count</th>\n",
       "      <th>publication_date</th>\n",
       "      <th>publisher</th>\n",
       "      <th>Unnamed: 12</th>\n",
       "    </tr>\n",
       "  </thead>\n",
       "  <tbody>\n",
       "    <tr>\n",
       "      <th>0</th>\n",
       "      <td>1</td>\n",
       "      <td>Harry Potter and the Half-Blood Prince (Harry ...</td>\n",
       "      <td>J.K. Rowling/Mary GrandPré</td>\n",
       "      <td>4.57</td>\n",
       "      <td>439785960</td>\n",
       "      <td>9780439785969</td>\n",
       "      <td>eng</td>\n",
       "      <td>652</td>\n",
       "      <td>2095690</td>\n",
       "      <td>27591</td>\n",
       "      <td>9/16/2006</td>\n",
       "      <td>Scholastic Inc.</td>\n",
       "      <td>NaN</td>\n",
       "    </tr>\n",
       "    <tr>\n",
       "      <th>1</th>\n",
       "      <td>2</td>\n",
       "      <td>Harry Potter and the Order of the Phoenix (Har...</td>\n",
       "      <td>J.K. Rowling/Mary GrandPré</td>\n",
       "      <td>4.49</td>\n",
       "      <td>439358078</td>\n",
       "      <td>9780439358071</td>\n",
       "      <td>eng</td>\n",
       "      <td>870</td>\n",
       "      <td>2153167</td>\n",
       "      <td>29221</td>\n",
       "      <td>09/01/2004</td>\n",
       "      <td>Scholastic Inc.</td>\n",
       "      <td>NaN</td>\n",
       "    </tr>\n",
       "    <tr>\n",
       "      <th>2</th>\n",
       "      <td>4</td>\n",
       "      <td>Harry Potter and the Chamber of Secrets (Harry...</td>\n",
       "      <td>J.K. Rowling</td>\n",
       "      <td>4.42</td>\n",
       "      <td>439554896</td>\n",
       "      <td>9780439554893</td>\n",
       "      <td>eng</td>\n",
       "      <td>352</td>\n",
       "      <td>6333</td>\n",
       "      <td>244</td>\n",
       "      <td>11/01/2003</td>\n",
       "      <td>Scholastic</td>\n",
       "      <td>NaN</td>\n",
       "    </tr>\n",
       "    <tr>\n",
       "      <th>3</th>\n",
       "      <td>5</td>\n",
       "      <td>Harry Potter and the Prisoner of Azkaban (Harr...</td>\n",
       "      <td>J.K. Rowling/Mary GrandPré</td>\n",
       "      <td>4.56</td>\n",
       "      <td>043965548X</td>\n",
       "      <td>9780439655484</td>\n",
       "      <td>eng</td>\n",
       "      <td>435</td>\n",
       "      <td>2339585</td>\n",
       "      <td>36325</td>\n",
       "      <td>05/01/2004</td>\n",
       "      <td>Scholastic Inc.</td>\n",
       "      <td>NaN</td>\n",
       "    </tr>\n",
       "    <tr>\n",
       "      <th>4</th>\n",
       "      <td>8</td>\n",
       "      <td>Harry Potter Boxed Set  Books 1-5 (Harry Potte...</td>\n",
       "      <td>J.K. Rowling/Mary GrandPré</td>\n",
       "      <td>4.78</td>\n",
       "      <td>439682584</td>\n",
       "      <td>9780439682589</td>\n",
       "      <td>eng</td>\n",
       "      <td>2690</td>\n",
       "      <td>41428</td>\n",
       "      <td>164</td>\n",
       "      <td>9/13/2004</td>\n",
       "      <td>Scholastic</td>\n",
       "      <td>NaN</td>\n",
       "    </tr>\n",
       "  </tbody>\n",
       "</table>\n",
       "</div>"
      ],
      "text/plain": [
       "   bookID                                              title  \\\n",
       "0       1  Harry Potter and the Half-Blood Prince (Harry ...   \n",
       "1       2  Harry Potter and the Order of the Phoenix (Har...   \n",
       "2       4  Harry Potter and the Chamber of Secrets (Harry...   \n",
       "3       5  Harry Potter and the Prisoner of Azkaban (Harr...   \n",
       "4       8  Harry Potter Boxed Set  Books 1-5 (Harry Potte...   \n",
       "\n",
       "                      authors average_rating        isbn         isbn13  \\\n",
       "0  J.K. Rowling/Mary GrandPré           4.57   439785960  9780439785969   \n",
       "1  J.K. Rowling/Mary GrandPré           4.49   439358078  9780439358071   \n",
       "2                J.K. Rowling           4.42   439554896  9780439554893   \n",
       "3  J.K. Rowling/Mary GrandPré           4.56  043965548X  9780439655484   \n",
       "4  J.K. Rowling/Mary GrandPré           4.78   439682584  9780439682589   \n",
       "\n",
       "  language_code   num_pages  ratings_count  text_reviews_count  \\\n",
       "0           eng         652        2095690               27591   \n",
       "1           eng         870        2153167               29221   \n",
       "2           eng         352           6333                 244   \n",
       "3           eng         435        2339585               36325   \n",
       "4           eng        2690          41428                 164   \n",
       "\n",
       "  publication_date        publisher Unnamed: 12  \n",
       "0        9/16/2006  Scholastic Inc.         NaN  \n",
       "1       09/01/2004  Scholastic Inc.         NaN  \n",
       "2       11/01/2003       Scholastic         NaN  \n",
       "3       05/01/2004  Scholastic Inc.         NaN  \n",
       "4        9/13/2004       Scholastic         NaN  "
      ]
     },
     "execution_count": 207,
     "metadata": {},
     "output_type": "execute_result"
    }
   ],
   "source": [
    "books = pd.read_csv('books.csv')\n",
    "books.head()"
   ]
  },
  {
   "cell_type": "code",
   "execution_count": 208,
   "metadata": {},
   "outputs": [
    {
     "data": {
      "text/plain": [
       "Index(['bookID', 'title', 'authors', 'average_rating', 'isbn', 'isbn13',\n",
       "       'language_code', '  num_pages', 'ratings_count', 'text_reviews_count',\n",
       "       'publication_date', 'publisher', 'Unnamed: 12'],\n",
       "      dtype='object')"
      ]
     },
     "execution_count": 208,
     "metadata": {},
     "output_type": "execute_result"
    }
   ],
   "source": [
    "books.columns"
   ]
  },
  {
   "cell_type": "markdown",
   "metadata": {},
   "source": [
    "Al observar la tabla, se puede apreciar que existe una columna de \"sobra\". Ya que existe la posibilidad de que se haya cometido un error en tanto en el título como en los autores, se hará un análisis superficial sobre la columna de 'average_rating', al ser la más cercana (en este caso) a la causas del error y de relevancia para el estudio."
   ]
  },
  {
   "cell_type": "code",
   "execution_count": 209,
   "metadata": {},
   "outputs": [
    {
     "name": "stdout",
     "output_type": "stream",
     "text": [
      "could not convert string to float: ' Jr./Sam B. Warner'\n"
     ]
    }
   ],
   "source": [
    "try:\n",
    "    x = books['average_rating'].apply(lambda x: 'rating' + str(float(x)))\n",
    "except ValueError as e:\n",
    "    print(e)"
   ]
  },
  {
   "cell_type": "markdown",
   "metadata": {},
   "source": [
    "El error nos está mos estrá mostrando que el error es en la columna de autores. Ya que se realizará un estudio sobre la relación entre el rating y las reviews, podemos precindir (por el momento) de información como el idioma, la editorial o la fecha. Por ello, se cargará solo la información relevante conforme sea requerida."
   ]
  },
  {
   "cell_type": "markdown",
   "metadata": {},
   "source": [
    "<h1>Carga de la información y análisis de la información</h1>"
   ]
  },
  {
   "cell_type": "markdown",
   "metadata": {},
   "source": [
    "<h2>Delimitación de la información necesaria</h2>"
   ]
  },
  {
   "cell_type": "markdown",
   "metadata": {},
   "source": [
    "Haciendo un análisis superficial, solo se requerirá la información del rating (float), reviews (int) y los libros resultantes de estos análisis. En el caso del rating y las reviews, podemos notar que un parámetro siempre solicitado es el valor máximo. Por lo que al momento de cargar la información, podemos aprovechar para obtenerlo dentro del mismo ciclo. Si el lector desea agregar más información, a continuación se deja el chunk de la función load_and_max para su edición."
   ]
  },
  {
   "cell_type": "markdown",
   "metadata": {},
   "source": [
    "Para este chunk, cape resaltar que se requerirá de las siguientes librerías:"
   ]
  },
  {
   "cell_type": "code",
   "execution_count": 210,
   "metadata": {},
   "outputs": [],
   "source": [
    "import csv, os\n",
    "from datetime import datetime"
   ]
  },
  {
   "cell_type": "code",
   "execution_count": 211,
   "metadata": {},
   "outputs": [],
   "source": [
    "def load_and_max(file, column_to_find):\n",
    "    with open(books, mode=\"r\", encoding='utf-8', newline='') as csv_file:\n",
    "        csv_reader = csv.reader(csv_file)\n",
    "        \n",
    "        header = next(csv_reader)\n",
    "        column_array = []\n",
    "        max_value = 0\n",
    "\n",
    "        for row in csv_reader:\n",
    "            try:\n",
    "                last_row = row[12]\n",
    "                if last_row == '':\n",
    "                    last_row = row[13]\n",
    "\n",
    "                if column_to_find == 'average_rating': column_data = float(row[4])\n",
    "                elif column_to_find == 'num_pages': column_data = int(row[8])\n",
    "                elif column_to_find == 'ratings_count': column_data = int(row[9])\n",
    "                elif column_to_find == 'text_reviews_count': column_data = int(row[10])\n",
    "                else:\n",
    "                    column_array = 'Data not Found. Check input'\n",
    "                    max_value = 0\n",
    "                    return column_array, max_value\n",
    "            except IndexError:\n",
    "                if column_to_find == 'average_rating': column_data = float(row[3])\n",
    "                elif column_to_find == 'num_pages': column_data =  int(row[7])\n",
    "                elif column_to_find == 'ratings_count': column_data = int(row[8])\n",
    "                elif column_to_find == 'text_reviews_count': column_data = int(row[9])\n",
    "                else:\n",
    "                    column_array = 'Data not Found. Check input'\n",
    "                    max_value = 0\n",
    "                    return column_array, max_value\n",
    "\n",
    "            column_array.append(column_data)\n",
    "            if column_data > max_value:\n",
    "                max_value = column_data\n",
    "\n",
    "    csv_file.close()\n",
    "\n",
    "    return column_array, max_value"
   ]
  },
  {
   "cell_type": "markdown",
   "metadata": {},
   "source": [
    "Para el caso de los títulos, se usaría solo la carga del array, sin un análisis requerido por el momento. Se resalta que este sería el sistema de carga para cualquiera de los arrays de forma individual."
   ]
  },
  {
   "cell_type": "code",
   "execution_count": 212,
   "metadata": {},
   "outputs": [],
   "source": [
    "def load_array(file, column_to_find):\n",
    "\n",
    "    with open(books, mode=\"r\", encoding='utf-8', newline='') as csv_file:\n",
    "        csv_reader = csv.reader(csv_file)\n",
    "        header = next(csv_reader)\n",
    "        column_array = []\n",
    "\n",
    "        for row in csv_reader:\n",
    "            try:\n",
    "                last_row = row[12]\n",
    "                if last_row == '':\n",
    "                    last_row = row[13]\n",
    "                #Ordered followinf the fild\n",
    "                #First Strings\n",
    "                if column_to_find == 'title': column_data = row[1]\n",
    "                elif column_to_find == 'authors': column_data = row[2] + ',' + row[3]\n",
    "                #Float\n",
    "                elif column_to_find == 'average_rating': column_data = float(row[4])\n",
    "                #Strings hided as Int\n",
    "                elif column_to_find == 'isbn': column_data = row[5]\n",
    "                elif column_to_find == 'isbn13': column_data = row[6]\n",
    "                #String AF\n",
    "                elif column_to_find == 'language_code': column_data = row[7]\n",
    "                elif column_to_find == '  num_pages': column_data = int(row[8])\n",
    "                elif column_to_find == 'ratings_count': column_data = int(row[9])\n",
    "                elif column_to_find == 'text_reviews_count': column_data = int(row[10])\n",
    "                #Reason you import Datetime\n",
    "                elif column_to_find == 'publication_date': column_data = datetime.strptime(row[11], '%m/%d/%Y')\n",
    "                #String\n",
    "                elif column_to_find == 'publisher': column_data = row[12]\n",
    "                else:\n",
    "                    column_data = 'Data not Found. Check input'\n",
    "                    \n",
    "                    return column_array\n",
    "\n",
    "                    \n",
    "            except IndexError:\n",
    "                #Ordered followinf the fild\n",
    "                #First Strings\n",
    "                if column_to_find == 'title': column_data = row[1]\n",
    "                elif column_to_find == 'authors': column_data = row[2]\n",
    "                #Float\n",
    "                elif column_to_find == 'average_rating': column_data = float(row[3])\n",
    "                #Strings hided as Int\n",
    "                elif column_to_find == 'isbn': column_data = row[4]\n",
    "                elif column_to_find == 'isbn13': column_data = row[5]\n",
    "                #String AF\n",
    "                elif column_to_find == 'language_code': column_data = row[6]\n",
    "                elif column_to_find == 'num_pages': column_data =  int(row[7])\n",
    "                elif column_to_find == 'ratings_count': column_data = int(row[8])\n",
    "                elif column_to_find == 'text_reviews_count': column_data = int(row[9])\n",
    "                #Reason you import Datetime\n",
    "                elif column_to_find == 'publication_date': column_data = datetime.strptime(row[10], '%m/%d/%Y')\n",
    "                #String\n",
    "                elif column_to_find == 'publisher': column_data = row[11]\n",
    "                else:\n",
    "                    column_data = 'Data not Found. Check input'\n",
    "                    \n",
    "                    return column_array\n",
    "\n",
    "            column_array.append(column_data)\n",
    "        \n",
    "\n",
    "    csv_file.close()\n",
    "\n",
    "    return column_array"
   ]
  },
  {
   "cell_type": "markdown",
   "metadata": {},
   "source": [
    "Realizando por partes el código, procedemos a manejarlo cómo si fuera un script simple de python, obteniendo la ubicación de nuestro archivo y agreegando el nombre del mismo."
   ]
  },
  {
   "cell_type": "code",
   "execution_count": 213,
   "metadata": {},
   "outputs": [],
   "source": [
    "import csv, os\n",
    "from datetime import datetime"
   ]
  },
  {
   "cell_type": "code",
   "execution_count": 214,
   "metadata": {},
   "outputs": [],
   "source": [
    "cwd = os.getcwd()\n",
    "books = os.path.join(cwd,'books.csv')"
   ]
  },
  {
   "cell_type": "code",
   "execution_count": 215,
   "metadata": {},
   "outputs": [],
   "source": [
    "titles = load_array(books, 'title')\n",
    "rating, max_rating = load_and_max(books, 'average_rating')\n",
    "reviews, max_reviews = load_and_max(books, 'text_reviews_count')"
   ]
  },
  {
   "cell_type": "markdown",
   "metadata": {},
   "source": [
    "Corroboramos que la información se haya cargado correctamente:"
   ]
  },
  {
   "cell_type": "code",
   "execution_count": 294,
   "metadata": {},
   "outputs": [],
   "source": [
    "books_dict = {'rating': rating,\n",
    "             'reviews': reviews,\n",
    "             'titles': titles}"
   ]
  },
  {
   "cell_type": "code",
   "execution_count": 229,
   "metadata": {},
   "outputs": [
    {
     "data": {
      "text/html": [
       "<div>\n",
       "<style scoped>\n",
       "    .dataframe tbody tr th:only-of-type {\n",
       "        vertical-align: middle;\n",
       "    }\n",
       "\n",
       "    .dataframe tbody tr th {\n",
       "        vertical-align: top;\n",
       "    }\n",
       "\n",
       "    .dataframe thead th {\n",
       "        text-align: right;\n",
       "    }\n",
       "</style>\n",
       "<table border=\"1\" class=\"dataframe\">\n",
       "  <thead>\n",
       "    <tr style=\"text-align: right;\">\n",
       "      <th></th>\n",
       "      <th>rating</th>\n",
       "      <th>reviews</th>\n",
       "      <th>titles</th>\n",
       "    </tr>\n",
       "  </thead>\n",
       "  <tbody>\n",
       "    <tr>\n",
       "      <th>0</th>\n",
       "      <td>4.57</td>\n",
       "      <td>27591</td>\n",
       "      <td>Harry Potter and the Half-Blood Prince (Harry ...</td>\n",
       "    </tr>\n",
       "    <tr>\n",
       "      <th>1</th>\n",
       "      <td>4.49</td>\n",
       "      <td>29221</td>\n",
       "      <td>Harry Potter and the Order of the Phoenix (Har...</td>\n",
       "    </tr>\n",
       "    <tr>\n",
       "      <th>2</th>\n",
       "      <td>4.42</td>\n",
       "      <td>244</td>\n",
       "      <td>Harry Potter and the Chamber of Secrets (Harry...</td>\n",
       "    </tr>\n",
       "    <tr>\n",
       "      <th>3</th>\n",
       "      <td>4.56</td>\n",
       "      <td>36325</td>\n",
       "      <td>Harry Potter and the Prisoner of Azkaban (Harr...</td>\n",
       "    </tr>\n",
       "    <tr>\n",
       "      <th>4</th>\n",
       "      <td>4.78</td>\n",
       "      <td>164</td>\n",
       "      <td>Harry Potter Boxed Set  Books 1-5 (Harry Potte...</td>\n",
       "    </tr>\n",
       "    <tr>\n",
       "      <th>...</th>\n",
       "      <td>...</td>\n",
       "      <td>...</td>\n",
       "      <td>...</td>\n",
       "    </tr>\n",
       "    <tr>\n",
       "      <th>11122</th>\n",
       "      <td>4.06</td>\n",
       "      <td>20</td>\n",
       "      <td>Expelled from Eden: A William T. Vollmann Reader</td>\n",
       "    </tr>\n",
       "    <tr>\n",
       "      <th>11123</th>\n",
       "      <td>4.08</td>\n",
       "      <td>56</td>\n",
       "      <td>You Bright and Risen Angels</td>\n",
       "    </tr>\n",
       "    <tr>\n",
       "      <th>11124</th>\n",
       "      <td>3.96</td>\n",
       "      <td>95</td>\n",
       "      <td>The Ice-Shirt (Seven Dreams #1)</td>\n",
       "    </tr>\n",
       "    <tr>\n",
       "      <th>11125</th>\n",
       "      <td>3.72</td>\n",
       "      <td>139</td>\n",
       "      <td>Poor People</td>\n",
       "    </tr>\n",
       "    <tr>\n",
       "      <th>11126</th>\n",
       "      <td>3.91</td>\n",
       "      <td>12</td>\n",
       "      <td>Las aventuras de Tom Sawyer</td>\n",
       "    </tr>\n",
       "  </tbody>\n",
       "</table>\n",
       "<p>11127 rows × 3 columns</p>\n",
       "</div>"
      ],
      "text/plain": [
       "       rating  reviews                                             titles\n",
       "0        4.57    27591  Harry Potter and the Half-Blood Prince (Harry ...\n",
       "1        4.49    29221  Harry Potter and the Order of the Phoenix (Har...\n",
       "2        4.42      244  Harry Potter and the Chamber of Secrets (Harry...\n",
       "3        4.56    36325  Harry Potter and the Prisoner of Azkaban (Harr...\n",
       "4        4.78      164  Harry Potter Boxed Set  Books 1-5 (Harry Potte...\n",
       "...       ...      ...                                                ...\n",
       "11122    4.06       20   Expelled from Eden: A William T. Vollmann Reader\n",
       "11123    4.08       56                        You Bright and Risen Angels\n",
       "11124    3.96       95                    The Ice-Shirt (Seven Dreams #1)\n",
       "11125    3.72      139                                        Poor People\n",
       "11126    3.91       12                        Las aventuras de Tom Sawyer\n",
       "\n",
       "[11127 rows x 3 columns]"
      ]
     },
     "execution_count": 229,
     "metadata": {},
     "output_type": "execute_result"
    }
   ],
   "source": [
    "books_df = pd.DataFrame(books_dict, columns=['rating','reviews','titles'])\n",
    "books_df"
   ]
  },
  {
   "cell_type": "markdown",
   "metadata": {},
   "source": [
    "<h2>Primeras deducciones</h2>"
   ]
  },
  {
   "cell_type": "markdown",
   "metadata": {},
   "source": [
    "Dado que tenemos rangos de existencia amplios y con tipos de variables distintos, se decide a realizar unos primeros análisis sobre las variables del Rating y de las Reviews de forma independiente."
   ]
  },
  {
   "cell_type": "markdown",
   "metadata": {},
   "source": [
    "<h3>Rating</h3>"
   ]
  },
  {
   "cell_type": "markdown",
   "metadata": {},
   "source": [
    "Para el caso del rating se puede observar un comportamiento con tendencia a la derecha, indicando que resulta más fácil encontrar un valor cercano a las 4 estrellas, pero que, al obtenerlo, decrece de form más drástica. Lo que sí resulta extraño, es encontrar valores entre 0 y 2. A simple vista, parece que encontrar una calificación de 5 estrellas (\"excelente\") es igual de probable que una de 2 (parecido a \"no lo recomiendo\")."
   ]
  },
  {
   "cell_type": "code",
   "execution_count": 230,
   "metadata": {},
   "outputs": [],
   "source": [
    "y = books_df['rating']"
   ]
  },
  {
   "cell_type": "markdown",
   "metadata": {},
   "source": [
    "Con esto podemos ver cuál es la frecuencia en las calificaciones con un gráfico de barras:"
   ]
  },
  {
   "cell_type": "code",
   "execution_count": 231,
   "metadata": {},
   "outputs": [
    {
     "data": {
      "text/plain": [
       "<matplotlib.legend.Legend at 0x1c9a4577cc8>"
      ]
     },
     "execution_count": 231,
     "metadata": {},
     "output_type": "execute_result"
    },
    {
     "data": {
      "image/png": "[encoded data removed]",
      "text/plain": [
       "<Figure size 432x288 with 1 Axes>"
      ]
     },
     "metadata": {
      "needs_background": "light"
     },
     "output_type": "display_data"
    }
   ],
   "source": [
    "fig, ax = plt.subplots()\n",
    "ax.hist(y, bins = 10)\n",
    "ax.set_xlabel('rating')\n",
    "ax.set_ylabel('Frecuencia')\n",
    "\n",
    "plt.axvline(np.mean(y)-np.std(y), c = 'k', linestyle = ':', label = '-1 desv. std.')\n",
    "plt.axvline(np.mean(y), c = 'r', linestyle = '-', label = 'Promedio')\n",
    "plt.axvline(np.mean(y)+np.std(y), c = 'k', linestyle = ':', label = '+1 desv. std.')\n",
    "ax.legend()"
   ]
  },
  {
   "cell_type": "markdown",
   "metadata": {},
   "source": [
    "Con esa información, se procede a analizar cuales son los libros con mayor calificación (5 estrellas)"
   ]
  },
  {
   "cell_type": "code",
   "execution_count": 232,
   "metadata": {},
   "outputs": [],
   "source": [
    "def match_case_condition(array, value):\n",
    "    match_one_condition = []\n",
    "    for element_ub in range(len(array)):\n",
    "        if array[element_ub] == value:\n",
    "            match_one_condition.append(element_ub)\n",
    "\n",
    "    return match_one_condition"
   ]
  },
  {
   "cell_type": "code",
   "execution_count": 227,
   "metadata": {},
   "outputs": [
    {
     "data": {
      "text/html": [
       "<div>\n",
       "<style scoped>\n",
       "    .dataframe tbody tr th:only-of-type {\n",
       "        vertical-align: middle;\n",
       "    }\n",
       "\n",
       "    .dataframe tbody tr th {\n",
       "        vertical-align: top;\n",
       "    }\n",
       "\n",
       "    .dataframe thead th {\n",
       "        text-align: right;\n",
       "    }\n",
       "</style>\n",
       "<table border=\"1\" class=\"dataframe\">\n",
       "  <thead>\n",
       "    <tr style=\"text-align: right;\">\n",
       "      <th></th>\n",
       "      <th>rating</th>\n",
       "      <th>reviews</th>\n",
       "      <th>titles</th>\n",
       "    </tr>\n",
       "  </thead>\n",
       "  <tbody>\n",
       "    <tr>\n",
       "      <th>0</th>\n",
       "      <td>5.0</td>\n",
       "      <td>0</td>\n",
       "      <td>Comoediae 1: Acharenses/Equites/Nubes/Vespae/P...</td>\n",
       "    </tr>\n",
       "    <tr>\n",
       "      <th>1</th>\n",
       "      <td>5.0</td>\n",
       "      <td>0</td>\n",
       "      <td>Willem de Kooning: Late Paintings</td>\n",
       "    </tr>\n",
       "    <tr>\n",
       "      <th>2</th>\n",
       "      <td>5.0</td>\n",
       "      <td>1</td>\n",
       "      <td>Literature Circle Guide: Bridge to Terabithia:...</td>\n",
       "    </tr>\n",
       "    <tr>\n",
       "      <th>3</th>\n",
       "      <td>5.0</td>\n",
       "      <td>0</td>\n",
       "      <td>Middlesex Borough (Images of America: New Jersey)</td>\n",
       "    </tr>\n",
       "    <tr>\n",
       "      <th>4</th>\n",
       "      <td>5.0</td>\n",
       "      <td>0</td>\n",
       "      <td>Zone of the Enders: The 2nd Runner Official St...</td>\n",
       "    </tr>\n",
       "    <tr>\n",
       "      <th>5</th>\n",
       "      <td>5.0</td>\n",
       "      <td>3</td>\n",
       "      <td>The Diamond Color Meditation: Color Pathway to...</td>\n",
       "    </tr>\n",
       "    <tr>\n",
       "      <th>6</th>\n",
       "      <td>5.0</td>\n",
       "      <td>0</td>\n",
       "      <td>Bulgakov's the Master and Margarita: The Text ...</td>\n",
       "    </tr>\n",
       "    <tr>\n",
       "      <th>7</th>\n",
       "      <td>5.0</td>\n",
       "      <td>0</td>\n",
       "      <td>The Complete Theory Fun Factory: Music Theory ...</td>\n",
       "    </tr>\n",
       "    <tr>\n",
       "      <th>8</th>\n",
       "      <td>5.0</td>\n",
       "      <td>0</td>\n",
       "      <td>The Goon Show  Volume 4: My Knees Have Fallen ...</td>\n",
       "    </tr>\n",
       "    <tr>\n",
       "      <th>9</th>\n",
       "      <td>5.0</td>\n",
       "      <td>0</td>\n",
       "      <td>The Goon Show  Volume 11: He's Fallen in the W...</td>\n",
       "    </tr>\n",
       "    <tr>\n",
       "      <th>10</th>\n",
       "      <td>5.0</td>\n",
       "      <td>0</td>\n",
       "      <td>Winchester Shotguns</td>\n",
       "    </tr>\n",
       "    <tr>\n",
       "      <th>11</th>\n",
       "      <td>5.0</td>\n",
       "      <td>0</td>\n",
       "      <td>Colossians and Philemon: A Critical and Exeget...</td>\n",
       "    </tr>\n",
       "    <tr>\n",
       "      <th>12</th>\n",
       "      <td>5.0</td>\n",
       "      <td>0</td>\n",
       "      <td>Taxation of Mineral Rents</td>\n",
       "    </tr>\n",
       "    <tr>\n",
       "      <th>13</th>\n",
       "      <td>5.0</td>\n",
       "      <td>1</td>\n",
       "      <td>The New Big Book of America</td>\n",
       "    </tr>\n",
       "    <tr>\n",
       "      <th>14</th>\n",
       "      <td>5.0</td>\n",
       "      <td>0</td>\n",
       "      <td>Delwau Duon: Peintiadau Nicholas Evans = Symph...</td>\n",
       "    </tr>\n",
       "    <tr>\n",
       "      <th>15</th>\n",
       "      <td>5.0</td>\n",
       "      <td>1</td>\n",
       "      <td>Fanning the Flame: Bible  Cross  and Mission</td>\n",
       "    </tr>\n",
       "    <tr>\n",
       "      <th>16</th>\n",
       "      <td>5.0</td>\n",
       "      <td>1</td>\n",
       "      <td>Oliver Wendell Holmes in Paris: Medicine  Theo...</td>\n",
       "    </tr>\n",
       "    <tr>\n",
       "      <th>17</th>\n",
       "      <td>5.0</td>\n",
       "      <td>1</td>\n",
       "      <td>Tyrannosaurus Wrecks (Stanley  #1)</td>\n",
       "    </tr>\n",
       "    <tr>\n",
       "      <th>18</th>\n",
       "      <td>5.0</td>\n",
       "      <td>0</td>\n",
       "      <td>The Irish Anatomist: A Study of Flann O'Brien</td>\n",
       "    </tr>\n",
       "    <tr>\n",
       "      <th>19</th>\n",
       "      <td>5.0</td>\n",
       "      <td>0</td>\n",
       "      <td>The American Campaign: U.S. Presidential Campa...</td>\n",
       "    </tr>\n",
       "    <tr>\n",
       "      <th>20</th>\n",
       "      <td>5.0</td>\n",
       "      <td>0</td>\n",
       "      <td>His Princess Devotional: A Royal Encounter Wit...</td>\n",
       "    </tr>\n",
       "    <tr>\n",
       "      <th>21</th>\n",
       "      <td>5.0</td>\n",
       "      <td>0</td>\n",
       "      <td>Bill Gates: Computer Legend (Famous Lives)</td>\n",
       "    </tr>\n",
       "  </tbody>\n",
       "</table>\n",
       "</div>"
      ],
      "text/plain": [
       "    rating  reviews                                             titles\n",
       "0      5.0        0  Comoediae 1: Acharenses/Equites/Nubes/Vespae/P...\n",
       "1      5.0        0                  Willem de Kooning: Late Paintings\n",
       "2      5.0        1  Literature Circle Guide: Bridge to Terabithia:...\n",
       "3      5.0        0  Middlesex Borough (Images of America: New Jersey)\n",
       "4      5.0        0  Zone of the Enders: The 2nd Runner Official St...\n",
       "5      5.0        3  The Diamond Color Meditation: Color Pathway to...\n",
       "6      5.0        0  Bulgakov's the Master and Margarita: The Text ...\n",
       "7      5.0        0  The Complete Theory Fun Factory: Music Theory ...\n",
       "8      5.0        0  The Goon Show  Volume 4: My Knees Have Fallen ...\n",
       "9      5.0        0  The Goon Show  Volume 11: He's Fallen in the W...\n",
       "10     5.0        0                                Winchester Shotguns\n",
       "11     5.0        0  Colossians and Philemon: A Critical and Exeget...\n",
       "12     5.0        0                          Taxation of Mineral Rents\n",
       "13     5.0        1                        The New Big Book of America\n",
       "14     5.0        0  Delwau Duon: Peintiadau Nicholas Evans = Symph...\n",
       "15     5.0        1       Fanning the Flame: Bible  Cross  and Mission\n",
       "16     5.0        1  Oliver Wendell Holmes in Paris: Medicine  Theo...\n",
       "17     5.0        1                 Tyrannosaurus Wrecks (Stanley  #1)\n",
       "18     5.0        0      The Irish Anatomist: A Study of Flann O'Brien\n",
       "19     5.0        0  The American Campaign: U.S. Presidential Campa...\n",
       "20     5.0        0  His Princess Devotional: A Royal Encounter Wit...\n",
       "21     5.0        0         Bill Gates: Computer Legend (Famous Lives)"
      ]
     },
     "execution_count": 227,
     "metadata": {},
     "output_type": "execute_result"
    }
   ],
   "source": [
    "maxium_books = match_case_condition(rating,5)\n",
    "\n",
    "verified_rate = []\n",
    "for ub in maxium_books:\n",
    "    verified_rate.append(rating[ub])\n",
    "\n",
    "n_reviews_of_titles = []\n",
    "for ub in maxium_books:\n",
    "    n_reviews_of_titles.append(reviews[ub])    \n",
    "    \n",
    "best_rated_titles = []\n",
    "for ub in maxium_books:\n",
    "    best_rated_titles.append(titles[ub])\n",
    "    \n",
    "best_rated_books_dict = {'rating': verified_rate,\n",
    "             'reviews': n_reviews_of_titles,\n",
    "             'titles': best_rated_titles}\n",
    "\n",
    "best_rated_books_df = pd.DataFrame(best_rated_books_dict, columns=['rating','reviews','titles'])\n",
    "best_rated_books_df"
   ]
  },
  {
   "cell_type": "markdown",
   "metadata": {},
   "source": [
    "Con este análisis, podemos afirmar que es falsa la idea de que los libros mejor calificados son los que tienen el mayor número de lectores."
   ]
  },
  {
   "cell_type": "markdown",
   "metadata": {},
   "source": [
    "<h2>Considerando Rating y Reviews</h2>"
   ]
  },
  {
   "cell_type": "markdown",
   "metadata": {},
   "source": [
    "Por la naturaleza de los reviews, clasificarlo sería algo más difícil. Ya que es menos probable de que entren en un rango fácil de clasificar."
   ]
  },
  {
   "cell_type": "code",
   "execution_count": 233,
   "metadata": {},
   "outputs": [
    {
     "data": {
      "text/plain": [
       "<matplotlib.legend.Legend at 0x1c9a46fbb88>"
      ]
     },
     "execution_count": 233,
     "metadata": {},
     "output_type": "execute_result"
    },
    {
     "data": {
      "image/png": "[encoded data removed]",
      "text/plain": [
       "<Figure size 432x288 with 1 Axes>"
      ]
     },
     "metadata": {
      "needs_background": "light"
     },
     "output_type": "display_data"
    }
   ],
   "source": [
    "y = books_df['reviews']\n",
    "fig, ax = plt.subplots()\n",
    "ax.hist(y, bins = 100)\n",
    "ax.set_xlabel('reviews')\n",
    "ax.set_ylabel('Frecuencia')\n",
    "\n",
    "plt.axvline(np.mean(y)-np.std(y), c = 'k', linestyle = ':', label = '-1 desv. std.')\n",
    "plt.axvline(np.mean(y), c = 'r', linestyle = '-', label = 'Promedio')\n",
    "plt.axvline(np.mean(y)+np.std(y), c = 'k', linestyle = ':', label = '+1 desv. std.')\n",
    "ax.legend()"
   ]
  },
  {
   "cell_type": "markdown",
   "metadata": {},
   "source": [
    "Se puede apreciar que es raro que la gente reseñe un libro, pero a su vez, sí existen valores altos de reseña. Ya que encontrarlos resultaría en una iteración manual, y que tenemos una noción de los resultados con el gráfico, podríamos obtener los libros que tengan como mínimo 1,000 reviews."
   ]
  },
  {
   "cell_type": "code",
   "execution_count": 234,
   "metadata": {},
   "outputs": [],
   "source": [
    "def merge_sort(array):\n",
    "    if len(array) > 1:\n",
    "        middle = len(array) // 2\n",
    "        left = array[:middle]\n",
    "        right = array[middle:]\n",
    "\n",
    "        merge_sort(left)\n",
    "        merge_sort(right)\n",
    "        \n",
    "        \"\"\"SubArrays Iterators\"\"\"\n",
    "        i = 0\n",
    "        j = 0\n",
    "        \"\"\"MainArray Iterator\"\"\"\n",
    "        k = 0\n",
    "\n",
    "        while i < len(left) and j < len(right):\n",
    "            if left[i] < right[j]:\n",
    "                array[k] = left[i]\n",
    "                i += 1\n",
    "            else:\n",
    "                array[k] = right[j]\n",
    "                j += 1\n",
    "            \n",
    "            k += 1\n",
    "\n",
    "        while i < len(left):\n",
    "            array[k] = left[i]\n",
    "            i += 1\n",
    "            k += 1\n",
    "\n",
    "        while j < len(right):\n",
    "            array[k] = right[j]\n",
    "            j += 1\n",
    "            k += 1\n",
    "\n",
    "    return array\n",
    "\n",
    "def binary_search(array, start, end, search_value):\n",
    "    if start > end:\n",
    "        return end\n",
    "    \n",
    "    middle = (start + end) // 2\n",
    "\n",
    "    if array[middle] == search_value:\n",
    "        return middle\n",
    "    elif array[middle] < search_value:\n",
    "        return binary_search(array, middle + 1, end, search_value)\n",
    "    else:\n",
    "        return binary_search(array, start, middle - 1, search_value)\n",
    "\n",
    "    \n",
    "def top_condisioned(array, start_value):\n",
    "    helper_array = sorted_set(array.copy())\n",
    "    helpers_end = len(helper_array) - 1\n",
    "    ubication =  binary_search(helper_array, 0, helpers_end, start_value)\n",
    "    \n",
    "    top_condisioned = []\n",
    "    for i in range(ubication, helpers_end):\n",
    "        top_condisioned.append(helper_array[i])\n",
    "\n",
    "    return top_condisioned\n",
    "\n",
    "def counted_array(elements_to_count, original_array):\n",
    "    count_array = []\n",
    "    for value in range(len(elements_to_count)):\n",
    "        count_array.append(original_array.count(elements_to_count[value]))\n",
    "    \n",
    "    return count_array\n",
    "\n",
    "def sorted_set(array):\n",
    "    reduced_set = set(array)\n",
    "    reduced_array = []\n",
    "    for element in reduced_set:\n",
    "        reduced_array.append(element)\n",
    "    reduced_array = merge_sort(reduced_array)\n",
    "\n",
    "    return reduced_array"
   ]
  },
  {
   "cell_type": "code",
   "execution_count": 297,
   "metadata": {},
   "outputs": [
    {
     "data": {
      "text/plain": [
       "951"
      ]
     },
     "execution_count": 297,
     "metadata": {},
     "output_type": "execute_result"
    }
   ],
   "source": [
    "topc_reviews = top_condisioned(reviews, 1000)\n",
    "len(topc_reviews)"
   ]
  },
  {
   "cell_type": "markdown",
   "metadata": {},
   "source": [
    "Ya que se pudo apreciar que existe un rango considerable de calificaciones mayores a 4, podemos reducir el espectro aplicando la misma lógica para el rating de los libros"
   ]
  },
  {
   "cell_type": "code",
   "execution_count": 298,
   "metadata": {},
   "outputs": [
    {
     "data": {
      "text/plain": [
       "31"
      ]
     },
     "execution_count": 298,
     "metadata": {},
     "output_type": "execute_result"
    }
   ],
   "source": [
    "topc_rating = top_condisioned(rating, 4.5)\n",
    "len(topc_rating)"
   ]
  },
  {
   "cell_type": "markdown",
   "metadata": {},
   "source": [
    "Cómo se puede apreciar, la diferencia en tamaño de arrays es muy grande. Por lo que encontrar un caso en el que coincidan las mejores calificaciones con el mayor número de reviews nos podría otorgar una Frame más reducido."
   ]
  },
  {
   "cell_type": "code",
   "execution_count": 237,
   "metadata": {},
   "outputs": [],
   "source": [
    "def match_cases(array1, wanted_array1, array2, wanted_array2):\n",
    "    \"\"\"Notice de diference: the original data has to be of the samen lenght,\n",
    "    BUT the match cases can differ. This means that I can have 3 match cases\n",
    "    on one side and 50 in the other, and it won't make any trouble\"\"\"\n",
    "    if len(array1)==len(array2):\n",
    "        match_cases = []\n",
    "\n",
    "        #Creating Support dictionaries\n",
    "        wanted_cases_1 = {}\n",
    "        for data in range(len(wanted_array1)):\n",
    "            wanted_cases_1[wanted_array1[data]] = 1\n",
    "        \n",
    "        wanted_cases_2 = {}\n",
    "        for data in range(len(wanted_array2)):\n",
    "            wanted_cases_2[wanted_array2[data]] = 1\n",
    "        \n",
    "        for ub in range(len(array1)):\n",
    "            val1 = array1[ub]\n",
    "            val2 = array2[ub]\n",
    "            if val1 in wanted_cases_1 and val2 in wanted_array2:\n",
    "                match_cases.append(ub)\n",
    "            \n",
    "        return match_cases\n",
    "\n",
    "    else: return 'Arrays must have the samen lenght'"
   ]
  },
  {
   "cell_type": "code",
   "execution_count": 238,
   "metadata": {},
   "outputs": [
    {
     "data": {
      "text/plain": [
       "[0, 3, 21, 288, 335, 4245, 6694]"
      ]
     },
     "execution_count": 238,
     "metadata": {},
     "output_type": "execute_result"
    }
   ],
   "source": [
    "match_cases = match_cases(rating, topc_rating, reviews, topc_reviews)\n",
    "match_cases"
   ]
  },
  {
   "cell_type": "markdown",
   "metadata": {},
   "source": [
    "Como se puede apreciar, son pocos los casos. Por lo que podríamos llamarlos \"los mejor evaluados\" (bv) al tener buen puntaje y una cantidad considerable de reviews."
   ]
  },
  {
   "cell_type": "code",
   "execution_count": 244,
   "metadata": {},
   "outputs": [
    {
     "data": {
      "text/html": [
       "<div>\n",
       "<style scoped>\n",
       "    .dataframe tbody tr th:only-of-type {\n",
       "        vertical-align: middle;\n",
       "    }\n",
       "\n",
       "    .dataframe tbody tr th {\n",
       "        vertical-align: top;\n",
       "    }\n",
       "\n",
       "    .dataframe thead th {\n",
       "        text-align: right;\n",
       "    }\n",
       "</style>\n",
       "<table border=\"1\" class=\"dataframe\">\n",
       "  <thead>\n",
       "    <tr style=\"text-align: right;\">\n",
       "      <th></th>\n",
       "      <th>rating</th>\n",
       "      <th>reviews</th>\n",
       "      <th>titles</th>\n",
       "    </tr>\n",
       "  </thead>\n",
       "  <tbody>\n",
       "    <tr>\n",
       "      <th>0</th>\n",
       "      <td>4.57</td>\n",
       "      <td>27591</td>\n",
       "      <td>Harry Potter and the Half-Blood Prince (Harry ...</td>\n",
       "    </tr>\n",
       "    <tr>\n",
       "      <th>1</th>\n",
       "      <td>4.56</td>\n",
       "      <td>36325</td>\n",
       "      <td>Harry Potter and the Prisoner of Azkaban (Harr...</td>\n",
       "    </tr>\n",
       "    <tr>\n",
       "      <th>2</th>\n",
       "      <td>4.59</td>\n",
       "      <td>1550</td>\n",
       "      <td>J.R.R. Tolkien 4-Book Boxed Set: The Hobbit an...</td>\n",
       "    </tr>\n",
       "    <tr>\n",
       "      <th>3</th>\n",
       "      <td>4.50</td>\n",
       "      <td>1427</td>\n",
       "      <td>Fullmetal Alchemist  Vol. 1 (Fullmetal Alchemi...</td>\n",
       "    </tr>\n",
       "    <tr>\n",
       "      <th>4</th>\n",
       "      <td>4.51</td>\n",
       "      <td>1237</td>\n",
       "      <td>The Power Broker: Robert Moses and the Fall of...</td>\n",
       "    </tr>\n",
       "    <tr>\n",
       "      <th>5</th>\n",
       "      <td>4.55</td>\n",
       "      <td>5966</td>\n",
       "      <td>The Complete Maus</td>\n",
       "    </tr>\n",
       "    <tr>\n",
       "      <th>6</th>\n",
       "      <td>4.54</td>\n",
       "      <td>1038</td>\n",
       "      <td>Season of Mists (The Sandman  #4)</td>\n",
       "    </tr>\n",
       "  </tbody>\n",
       "</table>\n",
       "</div>"
      ],
      "text/plain": [
       "   rating  reviews                                             titles\n",
       "0    4.57    27591  Harry Potter and the Half-Blood Prince (Harry ...\n",
       "1    4.56    36325  Harry Potter and the Prisoner of Azkaban (Harr...\n",
       "2    4.59     1550  J.R.R. Tolkien 4-Book Boxed Set: The Hobbit an...\n",
       "3    4.50     1427  Fullmetal Alchemist  Vol. 1 (Fullmetal Alchemi...\n",
       "4    4.51     1237  The Power Broker: Robert Moses and the Fall of...\n",
       "5    4.55     5966                                  The Complete Maus\n",
       "6    4.54     1038                  Season of Mists (The Sandman  #4)"
      ]
     },
     "execution_count": 244,
     "metadata": {},
     "output_type": "execute_result"
    }
   ],
   "source": [
    "bv_rate = []\n",
    "for ub in match_cases:\n",
    "    bv_rate.append(rating[ub])\n",
    "\n",
    "bv_reviews = []\n",
    "for ub in match_cases:\n",
    "    bv_reviews.append(reviews[ub])    \n",
    "    \n",
    "bv_titles = []\n",
    "for ub in match_cases:\n",
    "    bv_titles.append(titles[ub])\n",
    "    \n",
    "bv_books_dict = {'rating': bv_rate,\n",
    "             'reviews': bv_reviews,\n",
    "             'titles': bv_titles}\n",
    "\n",
    "bv_books_df = pd.DataFrame(bv_books_dict, columns=['rating','reviews','titles'])\n",
    "bv_books_df"
   ]
  },
  {
   "cell_type": "markdown",
   "metadata": {},
   "source": [
    "Ordenando los valores según la columna de reviews, podremos obtener el libro con mayor número de reviews y que tenga una calificación mayor a 4.5. Considerándolo por ende, uno de los mejores libros calificados en este Data Set"
   ]
  },
  {
   "cell_type": "code",
   "execution_count": 246,
   "metadata": {},
   "outputs": [
    {
     "data": {
      "text/html": [
       "<div>\n",
       "<style scoped>\n",
       "    .dataframe tbody tr th:only-of-type {\n",
       "        vertical-align: middle;\n",
       "    }\n",
       "\n",
       "    .dataframe tbody tr th {\n",
       "        vertical-align: top;\n",
       "    }\n",
       "\n",
       "    .dataframe thead th {\n",
       "        text-align: right;\n",
       "    }\n",
       "</style>\n",
       "<table border=\"1\" class=\"dataframe\">\n",
       "  <thead>\n",
       "    <tr style=\"text-align: right;\">\n",
       "      <th></th>\n",
       "      <th>rating</th>\n",
       "      <th>reviews</th>\n",
       "      <th>titles</th>\n",
       "    </tr>\n",
       "  </thead>\n",
       "  <tbody>\n",
       "    <tr>\n",
       "      <th>1</th>\n",
       "      <td>4.56</td>\n",
       "      <td>36325</td>\n",
       "      <td>Harry Potter and the Prisoner of Azkaban (Harr...</td>\n",
       "    </tr>\n",
       "    <tr>\n",
       "      <th>0</th>\n",
       "      <td>4.57</td>\n",
       "      <td>27591</td>\n",
       "      <td>Harry Potter and the Half-Blood Prince (Harry ...</td>\n",
       "    </tr>\n",
       "    <tr>\n",
       "      <th>5</th>\n",
       "      <td>4.55</td>\n",
       "      <td>5966</td>\n",
       "      <td>The Complete Maus</td>\n",
       "    </tr>\n",
       "    <tr>\n",
       "      <th>2</th>\n",
       "      <td>4.59</td>\n",
       "      <td>1550</td>\n",
       "      <td>J.R.R. Tolkien 4-Book Boxed Set: The Hobbit an...</td>\n",
       "    </tr>\n",
       "    <tr>\n",
       "      <th>3</th>\n",
       "      <td>4.50</td>\n",
       "      <td>1427</td>\n",
       "      <td>Fullmetal Alchemist  Vol. 1 (Fullmetal Alchemi...</td>\n",
       "    </tr>\n",
       "    <tr>\n",
       "      <th>4</th>\n",
       "      <td>4.51</td>\n",
       "      <td>1237</td>\n",
       "      <td>The Power Broker: Robert Moses and the Fall of...</td>\n",
       "    </tr>\n",
       "    <tr>\n",
       "      <th>6</th>\n",
       "      <td>4.54</td>\n",
       "      <td>1038</td>\n",
       "      <td>Season of Mists (The Sandman  #4)</td>\n",
       "    </tr>\n",
       "  </tbody>\n",
       "</table>\n",
       "</div>"
      ],
      "text/plain": [
       "   rating  reviews                                             titles\n",
       "1    4.56    36325  Harry Potter and the Prisoner of Azkaban (Harr...\n",
       "0    4.57    27591  Harry Potter and the Half-Blood Prince (Harry ...\n",
       "5    4.55     5966                                  The Complete Maus\n",
       "2    4.59     1550  J.R.R. Tolkien 4-Book Boxed Set: The Hobbit an...\n",
       "3    4.50     1427  Fullmetal Alchemist  Vol. 1 (Fullmetal Alchemi...\n",
       "4    4.51     1237  The Power Broker: Robert Moses and the Fall of...\n",
       "6    4.54     1038                  Season of Mists (The Sandman  #4)"
      ]
     },
     "execution_count": 246,
     "metadata": {},
     "output_type": "execute_result"
    }
   ],
   "source": [
    "bv_books_df.sort_values(by = 'reviews', ascending = False)"
   ]
  },
  {
   "cell_type": "markdown",
   "metadata": {},
   "source": [
    "<h3>Caso contrario. Solo considerar Reviews</h3>"
   ]
  },
  {
   "cell_type": "markdown",
   "metadata": {},
   "source": [
    "La siguiente función fue diseñada para obtener el \"top\" deseado de una serie de elementos numéricos. Por lo que con esto podrías observar cómo hubiese sido la tabla si solo se hubiesen considerado los 7 valores más altos en reviews. Este número fue escogido por la cantidad de coincidencias obtenidas para el DataFrame anterior."
   ]
  },
  {
   "cell_type": "code",
   "execution_count": 248,
   "metadata": {},
   "outputs": [],
   "source": [
    "def topx(array, top_size):\n",
    "    \"\"\"Considerations.\n",
    "    1) Array is ORDERED from minor to major.\n",
    "    2) You can insert Arrays with duplicated values.\n",
    "    3) You won't insert Sets.\"\"\"\n",
    "\n",
    "    sorted_and_reduced_array = sorted_set(array.copy())\n",
    "    position = len(sorted_and_reduced_array) - 1\n",
    "    \n",
    "    topx = []\n",
    "    value = sorted_and_reduced_array[position]\n",
    "    topx.append(value)\n",
    "\n",
    "    position -= 1\n",
    "    max_value = value\n",
    "    value = sorted_and_reduced_array[position]\n",
    "\n",
    "    top_values = 1 \n",
    "\n",
    "    while top_values < top_size and position >= 0 :\n",
    "        if value != max_value:\n",
    "            topx.append(sorted_and_reduced_array[position])\n",
    "            max_value = value\n",
    "            top_values += 1\n",
    "        position -= 1\n",
    "        value = sorted_and_reduced_array[position]\n",
    "\n",
    "    return topx"
   ]
  },
  {
   "cell_type": "code",
   "execution_count": 254,
   "metadata": {},
   "outputs": [
    {
     "data": {
      "text/plain": [
       "[94265, 86881, 56604, 55843, 52759, 47951, 47620]"
      ]
     },
     "execution_count": 254,
     "metadata": {},
     "output_type": "execute_result"
    }
   ],
   "source": [
    "top7_reviews = topx(reviews, 7)\n",
    "top7_reviews"
   ]
  },
  {
   "cell_type": "code",
   "execution_count": 257,
   "metadata": {},
   "outputs": [],
   "source": [
    "def match_top_cases(array1, wanted_array1):\n",
    "        match_cases = []\n",
    "\n",
    "        #Creating Support dictionaries\n",
    "        wanted_cases_1 = {}\n",
    "        for data in range(len(wanted_array1)):\n",
    "            wanted_cases_1[wanted_array1[data]] = 1\n",
    "        \n",
    "        for ub in range(len(array1)):\n",
    "            val1 = array1[ub]\n",
    "            if val1 in wanted_cases_1:\n",
    "                match_cases.append(ub)\n",
    "            \n",
    "        return match_cases"
   ]
  },
  {
   "cell_type": "code",
   "execution_count": 258,
   "metadata": {},
   "outputs": [
    {
     "data": {
      "text/plain": [
       "[284, 1069, 5272, 5409, 7312, 10340, 10704]"
      ]
     },
     "execution_count": 258,
     "metadata": {},
     "output_type": "execute_result"
    }
   ],
   "source": [
    "ub_top7r = match_top_cases(reviews, top7_reviews)\n",
    "ub_top7r"
   ]
  },
  {
   "cell_type": "code",
   "execution_count": 252,
   "metadata": {},
   "outputs": [],
   "source": [
    "def array_matches(match_array, array1, array2, array3):\n",
    "    \n",
    "    match_array1 = []\n",
    "    for ub in match_array:\n",
    "        match_array1.append(array1[ub])\n",
    "\n",
    "    match_array2 = []\n",
    "    for ub in match_array:\n",
    "        match_array2.append(array2[ub])    \n",
    "\n",
    "    match_array3 = []\n",
    "    for ub in match_array:\n",
    "        match_array3.append(array3[ub])\n",
    "    \n",
    "    return match_array1,match_array2,match_array3"
   ]
  },
  {
   "cell_type": "code",
   "execution_count": 260,
   "metadata": {},
   "outputs": [
    {
     "data": {
      "text/html": [
       "<div>\n",
       "<style scoped>\n",
       "    .dataframe tbody tr th:only-of-type {\n",
       "        vertical-align: middle;\n",
       "    }\n",
       "\n",
       "    .dataframe tbody tr th {\n",
       "        vertical-align: top;\n",
       "    }\n",
       "\n",
       "    .dataframe thead th {\n",
       "        text-align: right;\n",
       "    }\n",
       "</style>\n",
       "<table border=\"1\" class=\"dataframe\">\n",
       "  <thead>\n",
       "    <tr style=\"text-align: right;\">\n",
       "      <th></th>\n",
       "      <th>rating</th>\n",
       "      <th>reviews</th>\n",
       "      <th>titles</th>\n",
       "    </tr>\n",
       "  </thead>\n",
       "  <tbody>\n",
       "    <tr>\n",
       "      <th>5</th>\n",
       "      <td>3.59</td>\n",
       "      <td>94265</td>\n",
       "      <td>Twilight (Twilight  #1)</td>\n",
       "    </tr>\n",
       "    <tr>\n",
       "      <th>2</th>\n",
       "      <td>4.37</td>\n",
       "      <td>86881</td>\n",
       "      <td>The Book Thief</td>\n",
       "    </tr>\n",
       "    <tr>\n",
       "      <th>1</th>\n",
       "      <td>4.13</td>\n",
       "      <td>56604</td>\n",
       "      <td>The Giver (The Giver  #1)</td>\n",
       "    </tr>\n",
       "    <tr>\n",
       "      <th>0</th>\n",
       "      <td>3.86</td>\n",
       "      <td>55843</td>\n",
       "      <td>The Alchemist</td>\n",
       "    </tr>\n",
       "    <tr>\n",
       "      <th>6</th>\n",
       "      <td>4.09</td>\n",
       "      <td>52759</td>\n",
       "      <td>Water for Elephants</td>\n",
       "    </tr>\n",
       "    <tr>\n",
       "      <th>4</th>\n",
       "      <td>4.25</td>\n",
       "      <td>47951</td>\n",
       "      <td>The Lightning Thief (Percy Jackson and the Oly...</td>\n",
       "    </tr>\n",
       "    <tr>\n",
       "      <th>3</th>\n",
       "      <td>3.55</td>\n",
       "      <td>47620</td>\n",
       "      <td>Eat  Pray  Love</td>\n",
       "    </tr>\n",
       "  </tbody>\n",
       "</table>\n",
       "</div>"
      ],
      "text/plain": [
       "   rating  reviews                                             titles\n",
       "5    3.59    94265                            Twilight (Twilight  #1)\n",
       "2    4.37    86881                                     The Book Thief\n",
       "1    4.13    56604                          The Giver (The Giver  #1)\n",
       "0    3.86    55843                                      The Alchemist\n",
       "6    4.09    52759                                Water for Elephants\n",
       "4    4.25    47951  The Lightning Thief (Percy Jackson and the Oly...\n",
       "3    3.55    47620                                    Eat  Pray  Love"
      ]
     },
     "execution_count": 260,
     "metadata": {},
     "output_type": "execute_result"
    }
   ],
   "source": [
    "t7rev_rating, t7rev_reviews, t7rev_titles = array_matches(ub_top7r, rating, reviews, titles)\n",
    "    \n",
    "top7_books_dict = {'rating': t7rev_rating,\n",
    "             'reviews': t7rev_reviews,\n",
    "             'titles': t7rev_titles}\n",
    "\n",
    "top7_books_df = pd.DataFrame(top7_books_dict, columns=['rating','reviews','titles'])\n",
    "top7_books_df.sort_values(by = 'reviews', ascending = False)"
   ]
  },
  {
   "cell_type": "markdown",
   "metadata": {},
   "source": [
    "Aquí se puede apreciar que no siempre se garantiza una buena calificación con un gran número de reseñas."
   ]
  },
  {
   "cell_type": "markdown",
   "metadata": {},
   "source": [
    "<h2>Comportamiento rating vs reviews</h2>"
   ]
  },
  {
   "cell_type": "markdown",
   "metadata": {},
   "source": [
    "Debido a los resultados anteriores, se decide implementar un gráfico de puntos \"rating vs reviews\"."
   ]
  },
  {
   "cell_type": "code",
   "execution_count": 267,
   "metadata": {},
   "outputs": [
    {
     "data": {
      "text/html": [
       "<div>\n",
       "<style scoped>\n",
       "    .dataframe tbody tr th:only-of-type {\n",
       "        vertical-align: middle;\n",
       "    }\n",
       "\n",
       "    .dataframe tbody tr th {\n",
       "        vertical-align: top;\n",
       "    }\n",
       "\n",
       "    .dataframe thead th {\n",
       "        text-align: right;\n",
       "    }\n",
       "</style>\n",
       "<table border=\"1\" class=\"dataframe\">\n",
       "  <thead>\n",
       "    <tr style=\"text-align: right;\">\n",
       "      <th></th>\n",
       "      <th>rating</th>\n",
       "      <th>reviews</th>\n",
       "      <th>titles</th>\n",
       "    </tr>\n",
       "  </thead>\n",
       "  <tbody>\n",
       "    <tr>\n",
       "      <th>0</th>\n",
       "      <td>4.57</td>\n",
       "      <td>27591</td>\n",
       "      <td>Harry Potter and the Half-Blood Prince (Harry ...</td>\n",
       "    </tr>\n",
       "    <tr>\n",
       "      <th>1</th>\n",
       "      <td>4.49</td>\n",
       "      <td>29221</td>\n",
       "      <td>Harry Potter and the Order of the Phoenix (Har...</td>\n",
       "    </tr>\n",
       "    <tr>\n",
       "      <th>2</th>\n",
       "      <td>4.42</td>\n",
       "      <td>244</td>\n",
       "      <td>Harry Potter and the Chamber of Secrets (Harry...</td>\n",
       "    </tr>\n",
       "    <tr>\n",
       "      <th>3</th>\n",
       "      <td>4.56</td>\n",
       "      <td>36325</td>\n",
       "      <td>Harry Potter and the Prisoner of Azkaban (Harr...</td>\n",
       "    </tr>\n",
       "    <tr>\n",
       "      <th>4</th>\n",
       "      <td>4.78</td>\n",
       "      <td>164</td>\n",
       "      <td>Harry Potter Boxed Set  Books 1-5 (Harry Potte...</td>\n",
       "    </tr>\n",
       "    <tr>\n",
       "      <th>...</th>\n",
       "      <td>...</td>\n",
       "      <td>...</td>\n",
       "      <td>...</td>\n",
       "    </tr>\n",
       "    <tr>\n",
       "      <th>11122</th>\n",
       "      <td>4.06</td>\n",
       "      <td>20</td>\n",
       "      <td>Expelled from Eden: A William T. Vollmann Reader</td>\n",
       "    </tr>\n",
       "    <tr>\n",
       "      <th>11123</th>\n",
       "      <td>4.08</td>\n",
       "      <td>56</td>\n",
       "      <td>You Bright and Risen Angels</td>\n",
       "    </tr>\n",
       "    <tr>\n",
       "      <th>11124</th>\n",
       "      <td>3.96</td>\n",
       "      <td>95</td>\n",
       "      <td>The Ice-Shirt (Seven Dreams #1)</td>\n",
       "    </tr>\n",
       "    <tr>\n",
       "      <th>11125</th>\n",
       "      <td>3.72</td>\n",
       "      <td>139</td>\n",
       "      <td>Poor People</td>\n",
       "    </tr>\n",
       "    <tr>\n",
       "      <th>11126</th>\n",
       "      <td>3.91</td>\n",
       "      <td>12</td>\n",
       "      <td>Las aventuras de Tom Sawyer</td>\n",
       "    </tr>\n",
       "  </tbody>\n",
       "</table>\n",
       "<p>11127 rows × 3 columns</p>\n",
       "</div>"
      ],
      "text/plain": [
       "       rating  reviews                                             titles\n",
       "0        4.57    27591  Harry Potter and the Half-Blood Prince (Harry ...\n",
       "1        4.49    29221  Harry Potter and the Order of the Phoenix (Har...\n",
       "2        4.42      244  Harry Potter and the Chamber of Secrets (Harry...\n",
       "3        4.56    36325  Harry Potter and the Prisoner of Azkaban (Harr...\n",
       "4        4.78      164  Harry Potter Boxed Set  Books 1-5 (Harry Potte...\n",
       "...       ...      ...                                                ...\n",
       "11122    4.06       20   Expelled from Eden: A William T. Vollmann Reader\n",
       "11123    4.08       56                        You Bright and Risen Angels\n",
       "11124    3.96       95                    The Ice-Shirt (Seven Dreams #1)\n",
       "11125    3.72      139                                        Poor People\n",
       "11126    3.91       12                        Las aventuras de Tom Sawyer\n",
       "\n",
       "[11127 rows x 3 columns]"
      ]
     },
     "execution_count": 267,
     "metadata": {},
     "output_type": "execute_result"
    }
   ],
   "source": [
    "books_df"
   ]
  },
  {
   "cell_type": "code",
   "execution_count": 293,
   "metadata": {},
   "outputs": [
    {
     "data": {
      "text/plain": [
       "<matplotlib.legend.Legend at 0x1c9a74f0c88>"
      ]
     },
     "execution_count": 293,
     "metadata": {},
     "output_type": "execute_result"
    },
    {
     "data": {
      "image/png": "[encoded data removed]",
      "text/plain": [
       "<Figure size 432x288 with 1 Axes>"
      ]
     },
     "metadata": {
      "needs_background": "light"
     },
     "output_type": "display_data"
    }
   ],
   "source": [
    "fig = books_df.plot(kind=\"scatter\", x = 'rating', y = 'reviews',c = 'green')\n",
    "plt.axvline(np.mean(x)-np.std(x), c = 'k', linestyle = ':', label = '-1 desv. std.')\n",
    "plt.axvline(np.mean(x), c = 'r', linestyle = '-', label = 'Promedio')\n",
    "plt.axvline(np.mean(x)+np.std(x), c = 'k', linestyle = ':', label = '+1 desv. std.')\n",
    "fig.legend()"
   ]
  },
  {
   "cell_type": "markdown",
   "metadata": {},
   "source": [
    "Este gráfico presenta una condensación de los puntos entre una calificación de 3.5 y 4.5 y menores a 20,000 reviews. Para el caso de libros mayores a 4.5 podemos observar que no existe un repunte ni libros que traspasen dicho rango, pero sí que los puntos con mayor número de reviews se encuentran igual en dicho rango."
   ]
  },
  {
   "cell_type": "markdown",
   "metadata": {},
   "source": [
    "<h1>Conclusiones</h1>"
   ]
  },
  {
   "cell_type": "markdown",
   "metadata": {},
   "source": [
    "<ol>\n",
    "<li>Un libro tenga una calificación de 5 estrellas no es garantía de que a mucha gente le haya parecido un libro excelente</li>\n",
    "<li>Que un libro haya sido leído por mucha gente, no garantiza que a todos les haya parecido un libro excelente</li>\n",
    "<li>Siempre hay que considerar todas las variables disponibles y relevantes de un Data Set</li>\n",
    "<li>Conforme más condiciones agreguemos a nuestros análisis, nuestras deducciones pueden ser más precisas y objetivas</li>\n",
    "</ol>"
   ]
  }
 ],
 "metadata": {
  "kernelspec": {
   "display_name": "Python 3",
   "language": "python",
   "name": "python3"
  },
  "language_info": {
   "codemirror_mode": {
    "name": "ipython",
    "version": 3
   },
   "file_extension": ".py",
   "mimetype": "text/x-python",
   "name": "python",
   "nbconvert_exporter": "python",
   "pygments_lexer": "ipython3",
   "version": "3.7.6"
  }
 },
 "nbformat": 4,
 "nbformat_minor": 4
}
